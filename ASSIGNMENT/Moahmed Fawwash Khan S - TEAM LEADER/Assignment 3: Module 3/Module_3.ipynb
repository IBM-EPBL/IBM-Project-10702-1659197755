{
  "nbformat": 4,
  "nbformat_minor": 0,
  "metadata": {
    "colab": {
      "provenance": [],
      "collapsed_sections": [],
      "authorship_tag": "ABX9TyMzhF/2U+3J8YNsZqadKWsS",
      "include_colab_link": true
    },
    "kernelspec": {
      "name": "python3",
      "display_name": "Python 3"
    },
    "language_info": {
      "name": "python"
    }
  },
  "cells": [
    {
      "cell_type": "markdown",
      "metadata": {
        "id": "view-in-github",
        "colab_type": "text"
      },
      "source": [
        "<a href=\"https://colab.research.google.com/github/IBM-EPBL/IBM-Project-10702-1659197755/blob/main/Module_3.ipynb\" target=\"_parent\"><img src=\"https://colab.research.google.com/assets/colab-badge.svg\" alt=\"Open In Colab\"/></a>"
      ]
    },
    {
      "cell_type": "markdown",
      "source": [
        "**Name: Mohamed Fawwash Khan - Team Leader**\n",
        "\n",
        "**Reg no: 911519104021**"
      ],
      "metadata": {
        "id": "oJYXEXVTsbut"
      }
    },
    {
      "cell_type": "markdown",
      "source": [
        "**1) Create registration page in html with username, email and phone number and by using POST method display it in next html page.**"
      ],
      "metadata": {
        "id": "nDPTnPz2s2zs"
      }
    },
    {
      "cell_type": "markdown",
      "source": [
        "**register.html**"
      ],
      "metadata": {
        "id": "Kiur4np_tFUv"
      }
    },
    {
      "cell_type": "code",
      "execution_count": null,
      "metadata": {
        "id": "XDCv8HAYsEkN"
      },
      "outputs": [],
      "source": [
        "<!DOCTYPE html>\n",
        "<html>\n",
        "<head>\n",
        " <meta charset=\"UTF-8\">\n",
        " <meta http-equiv=\"X-UA-Compatible\" content=\"IE=edge\">\n",
        " <meta name=\"viewport\" content=\"width=device-width, initial-scale=1.0\">\n",
        " <title>Registration form</title>\n",
        "</head>\n",
        "<body>\n",
        " <center>\n",
        " <form action=\"{{ url_for(\"register\")}}\" method=\"post\">\n",
        " Name : <input type=\"text\" name=\"user\"><br><br>\n",
        " Email id : <input type=\"text\" name=\"email\"><br><br>\n",
        " Phone Number : <input type=\"text\" name=\"phone\"><br><br>\n",
        " <input type=\"submit\" value=\"Submit\"><br>\n",
        " </form>\n",
        " </center>\n",
        "</body>\n",
        "</html>"
      ]
    },
    {
      "cell_type": "markdown",
      "source": [
        "**app.py:**"
      ],
      "metadata": {
        "id": "LZq7KQIktOOT"
      }
    },
    {
      "cell_type": "code",
      "source": [
        "from flask import Flask, request, render_template\n",
        "app = Flask(__name__)\n",
        "@app.route('/', methods =[\"GET\", \"POST\"])\n",
        "def register():\n",
        " if request.method == \"POST\":\n",
        " name = request.form.get(\"user\")\n",
        " email = request.form.get(\"email\")\n",
        " phone = request.form.get(\"phone\")\n",
        " return \"Name is : \" + name + \", Email is : \" + email + \", Mobile Number is : \"+ phone \n",
        " return render_template(\"register.html\")\n",
        "if __name__=='__main__':\n",
        " app.debug=True\n",
        " app.run()"
      ],
      "metadata": {
        "id": "vyYw7gjTtRmP"
      },
      "execution_count": null,
      "outputs": []
    },
    {
      "cell_type": "markdown",
      "source": [
        "**2) Develop a flask program which should contain atleast 5 packages used from pypi.org**"
      ],
      "metadata": {
        "id": "hAuIUutktXAQ"
      }
    },
    {
      "cell_type": "markdown",
      "source": [
        "**base.html**"
      ],
      "metadata": {
        "id": "xmZJ4jqJteBv"
      }
    },
    {
      "cell_type": "code",
      "source": [
        "<!DOCTYPE html>\n",
        "<html>\n",
        "<head>\n",
        "<title>Page Title</title>\n",
        "{% block head %} {% endblock %}\n",
        "<link href=\"https://cdn.jsdelivr.net/npm/bootstrap@5.2.1/dist/css/bootstrap.min.css\" \n",
        "rel=\"stylesheet\" integrity=\"sha384-\n",
        "iYQeCzEYFbKjA/T2uDLTpkwGzCiq6soy8tYaI1GyVh/UjpbCx/TYkiZhlZB6+fzT\" \n",
        "crossorigin=\"anonymous\">\n",
        "<script src=\"https://cdn.jsdelivr.net/npm/bootstrap@5.2.1/dist/js/bootstrap.bundle.min.js\" \n",
        "integrity=\"sha384-\n",
        "u1OknCvxWvY5kfmNBILK2hRnQC3Pr17a+RTT6rIHI7NnikvbZlHgTPOOmMi466C8\" \n",
        "crossorigin=\"anonymous\">\n",
        "</script>\n",
        "</head>\n",
        "<body>\n",
        "<a href=\"/\">HOME</a>\n",
        "<a href=\"/Blog\">BLOG</a>\n",
        "<a href=\"/Signin\">SIGN IN</a>\n",
        "<a href=\"/Signup\">SIGN UP</a>\n",
        "<hr><br>\n",
        "<div class=\"container\">\n",
        "{% block body %} {% endblock %}\n",
        "</div>\n",
        "</body>\n",
        "</html>"
      ],
      "metadata": {
        "id": "HEj5O3Vctgpm"
      },
      "execution_count": null,
      "outputs": []
    },
    {
      "cell_type": "markdown",
      "source": [
        "**blog.html**"
      ],
      "metadata": {
        "id": "A_QbiRV5tk9D"
      }
    },
    {
      "cell_type": "code",
      "source": [
        "{% extends 'base.html' %}\n",
        "{% block head %}\n",
        "<title>Blog Page</title>\n",
        "{% endblock %}\n",
        "{% block body %}\n",
        "<h1>This is Jeffrey Blog</h1>\n",
        "<h2><p>Hello, from Jeffrey</p></h2>\n",
        "{% endblock %}"
      ],
      "metadata": {
        "id": "WmGOE_dptmtw"
      },
      "execution_count": null,
      "outputs": []
    },
    {
      "cell_type": "markdown",
      "source": [
        "**index.html**"
      ],
      "metadata": {
        "id": "VV9WmuhQtrcP"
      }
    },
    {
      "cell_type": "code",
      "source": [
        "{% extends 'base.html' %}\n",
        "{% block head %}\n",
        "<title>Home Page</title>\n",
        "{% endblock %}\n",
        "{% block body %}\n",
        "<h1>Hello everyone,</h1>\n",
        "<div class=\"p-5 mb-4 bg-light rounded-3\">\n",
        "<div class=\"container-fluid py-5\">\n",
        "<h1 class=\"dispay-5 fw-bold\">WIFI TECHNOLOGY<h1>\n",
        "<p class=\"col-md-8 fs-4\"> Wi-Fi is a wireless networking technology that allows \n",
        "devices such as computers (laptops and desktops), mobile devices (smart phones \n",
        "and wearables), and other equipment (printers and video cameras) to interface with \n",
        "the Internet.\n",
        "</p>\n",
        "</div>\n",
        "</div>\n",
        "{% endblock %}"
      ],
      "metadata": {
        "id": "vgnkxB0Gtyv2"
      },
      "execution_count": null,
      "outputs": []
    },
    {
      "cell_type": "markdown",
      "source": [
        "**signup.html**"
      ],
      "metadata": {
        "id": "L2L1SQZ6t7o-"
      }
    },
    {
      "cell_type": "code",
      "source": [
        "{% extends 'base.html' %}\n",
        "{% block head %}\n",
        "<title>Signup Page</title>\n",
        "{% endblock %}\n",
        "{% block body %}\n",
        "<h1>Signup Page</h1>\n",
        "<form action=\"Signup\" method=\"POST\">\n",
        "<label>Name</label><br>\n",
        "<input type=\"text\" name=\"name\"><br><br>\n",
        "<label>Email</label><br>\n",
        "<input type=\"email\" name=\"email\"><br><br>\n",
        "<label>Phone</label><br>\n",
        "<input type=\"text\" name=\"phone\"><br><br>\n",
        "<label>Password</label><br>\n",
        "<input type=\"password\" name=\"name\"><br><br>\n",
        "<label>Retype Password</label><br>\n",
        "<input type=\"password\" name=\"name\"><br><br><br>\n",
        "<input type=\"submit\" class=\"btn btn-primary\">\n",
        "</form>\n",
        "{% endblock %}"
      ],
      "metadata": {
        "id": "IHOwlXr-uH91"
      },
      "execution_count": null,
      "outputs": []
    },
    {
      "cell_type": "markdown",
      "source": [
        "**signin.html**"
      ],
      "metadata": {
        "id": "XwWQLCzHva-h"
      }
    },
    {
      "cell_type": "code",
      "source": [
        "{% extends 'base.html' %}\n",
        "{% block head %}\n",
        "<title>Signin Page</title>\n",
        "{% endblock %}\n",
        "{% block body %}\n",
        "<h1>Signin Page</h1>\n",
        "<form action=\"/Signin\" method=\"POST\">\n",
        "<label>Email</label><br>\n",
        "<input type=\"email\" name=\"email\"><br><br>\n",
        "<label>password</label><br>\n",
        "<input type=\"password\" name=\"name\"><br><br>\n",
        "<input type=\"submit\" class=\"btn btn-primary\">\n",
        "</form>\n",
        "{% endblock %}"
      ],
      "metadata": {
        "id": "wxqsjhZRuTpP"
      },
      "execution_count": null,
      "outputs": []
    },
    {
      "cell_type": "markdown",
      "source": [
        "**app.py:**"
      ],
      "metadata": {
        "id": "MWYOuA--vgPo"
      }
    },
    {
      "cell_type": "code",
      "source": [
        "from flask import Flask, render_template \n",
        "app = Flask(__name__ )\n",
        "@app.route('/', methods =[\"GET\", \"POST\"]) \n",
        "def Index():\n",
        " return render_template('index.html') \n",
        "@app.route('/Blog') \n",
        "def Blog():\n",
        " return render_template('blog.html') \n",
        "@app.route('/Signup')\n",
        "def Signup():\n",
        " return render_template('signup.html') \n",
        "@app.route('/Signin')\n",
        "def Signin():\n",
        " return render_template('signin.html') \n",
        "if __name__ =='__main__':\n",
        " app.debug = True\n",
        " app.run()"
      ],
      "metadata": {
        "id": "pGs2mxyKviAM"
      },
      "execution_count": null,
      "outputs": []
    },
    {
      "cell_type": "markdown",
      "source": [
        "**Qestion-3**\n",
        "\n",
        "\n",
        "1.   Create a User table with Username, email, roll number, password\n",
        "2.   Perform UPDATE and DELETE queries\n",
        "3.   Connect python code to db2\n",
        "4.   Create Flask app for a User registration and User login\n",
        "\n",
        "\n",
        "\n"
      ],
      "metadata": {
        "id": "jxreCc3pv7zY"
      }
    },
    {
      "cell_type": "markdown",
      "source": [
        "**app.py**"
      ],
      "metadata": {
        "id": "l53UXxYuwYVB"
      }
    },
    {
      "cell_type": "code",
      "source": [
        "from flask import Flask, render_template, request, redirect\n",
        "import sqlite3 as sql\n",
        "import models as dbHandler\n",
        "\n",
        "app = Flask(__name__)\n",
        "app.secret_key = 'fasdgfdgdfg'\n",
        "\n",
        "@app.route('/')\n",
        "def home():\n",
        "   return render_template('home.html')\n",
        "\n",
        "@app.route('/adduser')\n",
        "def new_user():\n",
        "   return render_template('add_user.html')\n",
        "\n",
        "@app.route('/addrec',methods = ['POST', 'GET'])\n",
        "def addrec():\n",
        "   if request.method == 'POST':\n",
        "      try:\n",
        "         email = request.form['email']\n",
        "         un = request.form['username']\n",
        "         rn = request.form['rollnumber']\n",
        "         pin = request.form['pin']\n",
        "         \n",
        "         with sql.connect(\"User_database.db\") as con:\n",
        "            cur = con.cursor()\n",
        "            cur.execute(\"INSERT INTO users (email,username,rollnumber,pin) VALUES (?,?,?,?)\",(email,un,rn,pin) )\n",
        "            con.commit()\n",
        "            msg = \"Record successfully added!\"\n",
        "      except:\n",
        "         con.rollback()\n",
        "         msg = \"error in insert operation\"\n",
        "     \n",
        "      finally:\n",
        "         return render_template(\"list.html\",msg = msg)\n",
        "         con.close()\n",
        "\n",
        "@app.route('/list')\n",
        "def list():\n",
        "   con = sql.connect(\"User_database.db\")\n",
        "   con.row_factory = sql.Row\n",
        "   \n",
        "   cur = con.cursor()\n",
        "   cur.execute(\"select * from users\")\n",
        "   \n",
        "   users = cur.fetchall()\n",
        "   return render_template(\"list.html\", users = users)\n",
        "\n",
        "if __name__ == '__main__':\n",
        "   app.run(debug = True)\n",
        "\n",
        "@app.route(\"/delete\")  \n",
        "def delete():  \n",
        "    return render_template(\"delete.html\")\n",
        "\n",
        "@app.route('/deleterecord',methods = [\"POST\"])  \n",
        "def deleterecord():  \n",
        "    un = request.form['username']\n",
        "    with sql.connect(\"User_database.db\") as con:\n",
        "        try:  \n",
        "            cur = con.cursor()  \n",
        "            cur.execute(\"DELETE FROM users WHERE username = ?\",[un])\n",
        "            con.commit()\n",
        "            msg = \"Record successfully deleted\"\n",
        "        except:\n",
        "            msg = \"can't be deleted\"  \n",
        "        finally:  \n",
        "            return render_template(\"home1.html\",msg = msg)\n",
        "\n",
        "if __name__ == '__main__':\n",
        "   app.run(debug = True)\n",
        "\n",
        "@app.route('/deldb', methods = [\"POST\"])\n",
        "def deldb():\n",
        "   con = sql.connect('User_database.db')\n",
        "   cur = con.cursor()\n",
        "   cur.execute('DELETE FROM users;')\n",
        "   con.commit()\n",
        "   con.close()\n",
        "   msg = 'All the data has been deleted'\n",
        "   return render_template(\"home1.html\",msg = msg)\n",
        "\n",
        "@app.route(\"/log\")  \n",
        "def log():  \n",
        "    return render_template(\"login.html\")\n",
        "\n",
        "@app.route('/login', methods =['GET', 'POST'])\n",
        "def login():\n",
        "   un = request.form['username']\n",
        "   if request.method=='POST':\n",
        "         users = dbHandler.retrieveUsers()\n",
        "         msg = 'Logged in successfully!'\n",
        "         return render_template('welcome.html', users=un, msg=msg)\n",
        "   else:\n",
        "         msg = 'You are not registered, would you like to be registered'\n",
        "         return render_template('home1.html', msg=msg)\n",
        "\n",
        "if __name__ == '__main__':\n",
        "    app.run(debug=False, host='0.0.0.0')"
      ],
      "metadata": {
        "id": "CI8S4DHFwXxh"
      },
      "execution_count": null,
      "outputs": []
    },
    {
      "cell_type": "markdown",
      "source": [
        "**models.py**"
      ],
      "metadata": {
        "id": "e5gLEgT6wmU2"
      }
    },
    {
      "cell_type": "code",
      "source": [
        "import sqlite3 as sql\n",
        "\n",
        "def retrieveUsers():\n",
        "    con = sql.connect(\"User_database.db\")\n",
        "    cur = con.cursor()\n",
        "    cur.execute(\"SELECT username, pin FROM users\")\n",
        "    users = cur.fetchone()\n",
        "    con.close()\n",
        "    return users"
      ],
      "metadata": {
        "id": "al2krItDwohR"
      },
      "execution_count": null,
      "outputs": []
    },
    {
      "cell_type": "markdown",
      "source": [
        "**sqlite_db_setup.py**"
      ],
      "metadata": {
        "id": "keUMUyuRw1Zh"
      }
    },
    {
      "cell_type": "code",
      "source": [
        "import sqlite3\n",
        "\n",
        "conn = sqlite3.connect('User_database.db')\n",
        "print(\"Opened database successfully\")\n",
        "\n",
        "conn.execute('CREATE TABLE users (email TEXT, username TEXT, rollnumber INTEGER, pin INTEGER)')\n",
        "print(\"Table created successfully\")\n",
        "conn.close()"
      ],
      "metadata": {
        "id": "opg01Vs_w5oF"
      },
      "execution_count": null,
      "outputs": []
    },
    {
      "cell_type": "markdown",
      "source": [
        "**home.html**"
      ],
      "metadata": {
        "id": "kOaZdod2w7wv"
      }
    },
    {
      "cell_type": "code",
      "source": [
        "<h1>Welcome to User DB APP</h1><br><br>\n",
        "<a href=\"/\">HOME</a><br><br>\n",
        "<a href=\"/adduser\">User Registration</a><br><br>\n",
        "<a href=\"/list\">List User</a><br><br>\n",
        "<a href=\"/log\">Log in</a><br><br>\n",
        "<a href=\"/delete\">Remove a User</a>"
      ],
      "metadata": {
        "id": "mAhGElJNw93m"
      },
      "execution_count": null,
      "outputs": []
    },
    {
      "cell_type": "markdown",
      "source": [
        "**add_user.html**"
      ],
      "metadata": {
        "id": "dC8rORQrxOBq"
      }
    },
    {
      "cell_type": "code",
      "source": [
        "<form action = \"{{ url_for('addrec') }}\" method = \"POST\">\n",
        "    <h3>User Information</h3>\n",
        "    E-mail<br>\n",
        "    <input type = \"email\" name = \"email\" /></br>\n",
        "   \n",
        "    Username<br>\n",
        "    <input type = \"text\" name = \"username\" /></br>\n",
        "   \n",
        "    Rollnumber<br>\n",
        "    <input type = \"text\" name = \"rollnumber\" /><br>\n",
        "   \n",
        "    PIN<br>\n",
        "    <input type = \"password\" name = \"pin\" min=\"4\" max=\"8\" /><br><br>\n",
        "    <input type = \"submit\" value = \"submit\" /><p>     </p>\n",
        "    <input type = \"reset\"/>\n",
        " </form>"
      ],
      "metadata": {
        "id": "0kx7J8guxQuZ"
      },
      "execution_count": null,
      "outputs": []
    },
    {
      "cell_type": "markdown",
      "source": [
        "**list.html**"
      ],
      "metadata": {
        "id": "MrAw3lj-xT4f"
      }
    },
    {
      "cell_type": "code",
      "source": [
        "<!doctype html>\n",
        "<html>\n",
        "   <body>\n",
        "\n",
        "    <a href=\"/\">HOME</a><br><br>\n",
        "    <a href=\"/adduser\">Add New Student</a><br><br>\n",
        "    <a href=\"/list\">List Student</a><br><br>\n",
        "    <br><hr>\n",
        "\n",
        "    {{ msg }}\n",
        "\n",
        "      <table border = 1>\n",
        "         <thead>\n",
        "            <td>   Email   </td>\n",
        "            <td>  Username  </td>\n",
        "            <td> Roll Number </td>\n",
        "            <td>   Pin   </td>\n",
        "         </thead>\n",
        "         \n",
        "         {% for row in users %}\n",
        "            <tr>\n",
        "               <td>{{row[\"email\"]}}</td>\n",
        "               <td>{{row[\"username\"]}}</td>\n",
        "               <td> {{ row[\"rollnumber\"]}}</td>\n",
        "               <td>{{row['pin']}}</td>\n",
        "            </tr>\n",
        "         {% endfor %}\n",
        "      </table>\n",
        "     \n",
        "\n",
        "   </body>\n",
        "</html>"
      ],
      "metadata": {
        "id": "gouxCs16xWjQ"
      },
      "execution_count": null,
      "outputs": []
    },
    {
      "cell_type": "markdown",
      "source": [
        "**Output has been uploaded in the PDF file, please refer that :)**"
      ],
      "metadata": {
        "id": "LEzX1MN6235B"
      }
    }
  ]
}
