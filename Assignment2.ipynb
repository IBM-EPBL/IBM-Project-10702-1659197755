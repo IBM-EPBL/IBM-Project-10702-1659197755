{
  "nbformat": 4,
  "nbformat_minor": 0,
  "metadata": {
    "colab": {
      "provenance": [],
      "collapsed_sections": [],
      "authorship_tag": "ABX9TyPoY5/LNgVPAUtZe98rfpUZ",
      "include_colab_link": true
    },
    "kernelspec": {
      "name": "python3",
      "display_name": "Python 3"
    },
    "language_info": {
      "name": "python"
    }
  },
  "cells": [
    {
      "cell_type": "markdown",
      "metadata": {
        "id": "view-in-github",
        "colab_type": "text"
      },
      "source": [
        "<a href=\"https://colab.research.google.com/github/IBM-EPBL/IBM-Project-10702-1659197755/blob/main/Assignment2.ipynb\" target=\"_parent\"><img src=\"https://colab.research.google.com/assets/colab-badge.svg\" alt=\"Open In Colab\"/></a>"
      ]
    },
    {
      "cell_type": "markdown",
      "source": [
        "**MODULE 3 ASSIGNMENT**"
      ],
      "metadata": {
        "id": "NKkZrSNsIdCN"
      }
    },
    {
      "cell_type": "markdown",
      "source": [
        "**1.List Program in python**"
      ],
      "metadata": {
        "id": "_WGEnmCeIkG5"
      }
    },
    {
      "cell_type": "code",
      "source": [
        "def insert(list1, ind, element):\n",
        "list1.insert(ind, element)\n",
        "def prin(list1):\n",
        "print(list1)\n",
        "def remove(list1,element):\n",
        "list1.remove(element)\n",
        "def append(list1,element):\n",
        "list1.append(element)\n",
        "def sort(list1):\n",
        "list1.sort()\n",
        "def pop(list1):\n",
        "list1.pop()\n",
        "def reverse(list1):\n",
        "list1.sort(reverse = True)\n",
        "print(\"Select operation.\")\n",
        "print(\"1.Insert an element\")\n",
        "print(\"2.Print the list\")\n",
        "print(\"3.Remove an element\")\n",
        "print(\"4.Append an element\")\n",
        "print(\"5.Sort the list\")\n",
        "print(\"6.Pop the last element\")\n",
        "print(\"7.Sort the list in reverse order\")\n",
        "print(\"8.Break the program\")\n",
        "list1 = [1,2,3,4,5,6,7,8,9,10]\n",
        "while True:\n",
        "choice = input(\"\\nEnter choice(1/2/3/4/5/6/7): \")\n",
        "if choice in ('1', '2', '3', '4', '5', '6', '7', '8'):\n",
        "if choice == '1':\n",
        "a = int(input(\"Enter the index which the element is to be added: \"))\n",
        "b = int(input(\"Enter the number to be added in the list\"))\n",
        "insert(list1, a, b)\n",
        "elif choice == '2':\n",
        "prin(list1)\n",
        "elif choice == '3':\n",
        "a = int(input(\"Enter the number to be removed from the list\"))\n",
        "remove(list1, a)\n",
        "elif choice == '4':\n",
        "a = int(input(\"Enter the number to be appended to the list\"))\n",
        "append(list1, a)\n",
        "elif choice == '5':\n",
        "print(\"Sorting the list...\")\n",
        "sort(list1)\n",
        "elif choice == '6':\n",
        "print(\"Poping the last element...\")\n",
        "pop(list1)\n",
        "elif choice == '7':\n",
        "print(\"Sorting the list in reverse order...\")\n",
        "reverse(list1)\n",
        "elif choice == '8':\n",
        "break\n",
        "else:\n",
        "print(\"Invalid input...\\n\")"
      ],
      "metadata": {
        "id": "-eFuErFEImVx"
      },
      "execution_count": null,
      "outputs": []
    },
    {
      "cell_type": "markdown",
      "source": [
        "**2. Calculator program in python**"
      ],
      "metadata": {
        "id": "31G6x7oSJClm"
      }
    },
    {
      "cell_type": "code",
      "source": [
        "def add(x, y):\n",
        "return x + y\n",
        "def subtract(x, y):\n",
        "return x - y\n",
        "def multiply(x, y):\n",
        "return x * y\n",
        "def divide(x, y):\n",
        "return x / y\n",
        "print(\"Select operation.\")\n",
        "print(\"1.Add\")\n",
        "print(\"2.Subtract\")\n",
        "print(\"3.Multiply\")\n",
        "print(\"4.Divide\")\n",
        "while True:\n",
        "choice = input(\"Enter choice(1/2/3/4): \")\n",
        "if choice in ('1', '2', '3', '4'):\n",
        "num1 = float(input(\"Enter first number: \"))\n",
        "num2 = float(input(\"Enter second number: \"))\n",
        "if choice == '1':\n",
        "print(num1, \"+\", num2, \"=\", add(num1, num2))\n",
        "elif choice == '2':\n",
        "print(num1, \"-\", num2, \"=\", subtract(num1, num2))\n",
        "elif choice == '3':\n",
        "print(num1, \"*\", num2, \"=\", multiply(num1, num2))\n",
        "elif choice == '4':\n",
        "print(num1, \"/\", num2, \"=\", divide(num1, num2))\n",
        "nc = input(\"\\nLet's do next calculation? (yes/no): \")\n",
        "if nc == \"yes\":\n",
        "continue\n",
        "else:\n",
        "break\n",
        "else:\n",
        "print(\"Invalid Input\\n\")"
      ],
      "metadata": {
        "id": "WI2HfnORJERf"
      },
      "execution_count": null,
      "outputs": []
    },
    {
      "cell_type": "markdown",
      "source": [
        "**3.String Program in python**"
      ],
      "metadata": {
        "id": "tcwvZ1b9JPKi"
      }
    },
    {
      "cell_type": "code",
      "source": [
        "def concat(var1, var2):\n",
        "var3 = \" \".join([var1, var2])\n",
        "print(var3)\n",
        "def reverse(string):\n",
        "string = string[::-1]\n",
        "print(string)\n",
        "def slic(string):\n",
        "s1 = slice(5,11)\n",
        "print(string[s1])\n",
        "print(\"Select operation.\")\n",
        "print(\"1.Concatenate two string\")\n",
        "print(\"2.Reverse the string\")\n",
        "print(\"3.Slice the string\")\n",
        "print(\"4.Break the program\")\n",
        "while True:\n",
        "choice = input(\"Enter choice(1/2/3/4): \")\n",
        "string = str(input(\"\\nEnter the string: \"))\n",
        "if choice in ('1', '2', '3', '4'):\n",
        "if choice == '1':\n",
        "str1 = str(input(\"Enter the second string. \"))\n",
        "concat(string, str1)\n",
        "elif choice == '2':\n",
        "reverse(string)\n",
        "elif choice == '3':\n",
        "slic(string)\n",
        "elif choice == '4':\n",
        "break\n",
        "else:\n",
        "print(\"Invalid input\")"
      ],
      "metadata": {
        "id": "Vtag_Pp4JThG"
      },
      "execution_count": null,
      "outputs": []
    },
    {
      "cell_type": "markdown",
      "source": [
        "**4. why python a popular programming language?**"
      ],
      "metadata": {
        "id": "k129VuIDJZTn"
      }
    },
    {
      "cell_type": "markdown",
      "source": [
        "Python is easy to learn. It uses a simplified syntax with an emphasis\n",
        "on natural language, for a much easier learning curve for beginners. And, because Python is free\n",
        "to use and is supported by an extremely large ecosystem of libraries and packages, it's often the\n",
        "first-choice language for new developers."
      ],
      "metadata": {
        "id": "t2UvuDK0JeMp"
      }
    },
    {
      "cell_type": "markdown",
      "source": [
        "**5. what are the different frameworks that can be used in python ?**"
      ],
      "metadata": {
        "id": "YcwgZwyNJivT"
      }
    },
    {
      "cell_type": "markdown",
      "source": [
        "1. Django\n",
        "2. CherryPy\n",
        "3. Flask\n",
        "4. TurboGears\n",
        "5.Tornado\n",
        "6.Pyramid\n",
        "7.Web2py"
      ],
      "metadata": {
        "id": "cir8FWtPJl8k"
      }
    },
    {
      "cell_type": "markdown",
      "source": [
        "**6. Full form of WSGI**"
      ],
      "metadata": {
        "id": "sUA9VXmWJpNS"
      }
    },
    {
      "cell_type": "markdown",
      "source": [
        "Web Server Gateway Interface"
      ],
      "metadata": {
        "id": "WpYiqNLAJtVV"
      }
    }
  ]
}