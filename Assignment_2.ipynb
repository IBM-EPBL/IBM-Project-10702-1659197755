{
  "nbformat": 4,
  "nbformat_minor": 0,
  "metadata": {
    "colab": {
      "provenance": [],
      "authorship_tag": "ABX9TyMph7RtcsGpVnJlrkaNf+dY",
      "include_colab_link": true
    },
    "kernelspec": {
      "name": "python3",
      "display_name": "Python 3"
    },
    "language_info": {
      "name": "python"
    }
  },
  "cells": [
    {
      "cell_type": "markdown",
      "metadata": {
        "id": "view-in-github",
        "colab_type": "text"
      },
      "source": [
        "<a href=\"https://colab.research.google.com/github/IBM-EPBL/IBM-Project-10702-1659197755/blob/main/Assignment_2.ipynb\" target=\"_parent\"><img src=\"https://colab.research.google.com/assets/colab-badge.svg\" alt=\"Open In Colab\"/></a>"
      ]
    },
    {
      "cell_type": "markdown",
      "source": [
        "**calc.py**"
      ],
      "metadata": {
        "id": "PS5qmlu-Df4x"
      }
    },
    {
      "cell_type": "code",
      "source": [
        "def add(x, y):\n",
        "    return x + y\n",
        "\n",
        "def subtract(x, y):\n",
        "    return x - y\n",
        "\n",
        "def multiply(x, y):\n",
        "    return x * y\n",
        "\n",
        "def divide(x, y):\n",
        "    return x / y\n",
        "\n",
        "\n",
        "print(\"Select operation.\")\n",
        "print(\"1.Add\")\n",
        "print(\"2.Subtract\")\n",
        "print(\"3.Multiply\")\n",
        "print(\"4.Divide\")\n",
        "\n",
        "while True:\n",
        "    choice = input(\"Enter choice(1/2/3/4): \")\n",
        "\n",
        "    if choice in ('1', '2', '3', '4'):\n",
        "        num1 = float(input(\"Enter first number: \"))\n",
        "        num2 = float(input(\"Enter second number: \"))\n",
        "\n",
        "        if choice == '1':\n",
        "            print(num1, \"+\", num2, \"=\", add(num1, num2))\n",
        "\n",
        "        elif choice == '2':\n",
        "            print(num1, \"-\", num2, \"=\", subtract(num1, num2))\n",
        "\n",
        "        elif choice == '3':\n",
        "            print(num1, \"*\", num2, \"=\", multiply(num1, num2))\n",
        "\n",
        "        elif choice == '4':\n",
        "            print(num1, \"/\", num2, \"=\", divide(num1, num2))\n",
        "\n",
        "        nc = input(\"\\nLet's do next calculation? (yes/no): \")\n",
        "        if nc == \"yes\":\n",
        "            continue\n",
        "        else:\n",
        "            break\n",
        "    \n",
        "    else:\n",
        "        print(\"Invalid Input\\n\")"
      ],
      "metadata": {
        "id": "HqXwSWZXDovx"
      },
      "execution_count": null,
      "outputs": []
    },
    {
      "cell_type": "markdown",
      "source": [
        "**list.py**"
      ],
      "metadata": {
        "id": "NEFtTBimDpyF"
      }
    },
    {
      "cell_type": "code",
      "source": [
        "def insert(list1, ind, element):\n",
        "    list1.insert(ind, element)\n",
        "\n",
        "def prin(list1):\n",
        "    print(list1)\n",
        "    \n",
        "def remove(list1,element):\n",
        "    list1.remove(element)\n",
        "\n",
        "def append(list1,element):\n",
        "    list1.append(element)\n",
        "\n",
        "def sort(list1):\n",
        "    list1.sort()\n",
        "\n",
        "def pop(list1):\n",
        "    list1.pop()\n",
        "\n",
        "def reverse(list1):\n",
        "    list1.sort(reverse = True)\n",
        "\n",
        "\n",
        "\n",
        "print(\"Select operation.\")\n",
        "print(\"1.Insert an element\")\n",
        "print(\"2.Print the list\")\n",
        "print(\"3.Remove an element\")\n",
        "print(\"4.Append an element\")\n",
        "print(\"5.Sort the list\")\n",
        "print(\"6.Pop the last element\")\n",
        "print(\"7.Sort the list in reverse order\")\n",
        "print(\"8.Break the program\")\n",
        "list1 = [1,2,3,4,5,6,7,8,9,10]\n",
        "\n",
        "while True:\n",
        "    \n",
        "    choice = input(\"\\nEnter choice(1/2/3/4/5/6/7): \")\n",
        "    if choice in ('1', '2', '3', '4', '5', '6', '7', '8'):\n",
        "\n",
        "        if choice == '1':\n",
        "            a = int(input(\"Enter the index which the element is to be added: \"))\n",
        "            b = int(input(\"Enter the number to be added in the list\"))\n",
        "            insert(list1, a, b)\n",
        "            \n",
        "        elif choice == '2':\n",
        "            prin(list1)\n",
        "            \n",
        "        elif choice == '3':\n",
        "            a = int(input(\"Enter the number to be removed from the list\"))\n",
        "            remove(list1, a)\n",
        "            \n",
        "        elif choice == '4':\n",
        "            a = int(input(\"Enter the number to be appended to the list\"))\n",
        "            append(list1, a)\n",
        "            \n",
        "        elif choice == '5':\n",
        "            print(\"Sorting the list...\")\n",
        "            sort(list1)\n",
        "            \n",
        "        elif choice == '6':\n",
        "            print(\"Poping the last element...\")\n",
        "            pop(list1)\n",
        "            \n",
        "        elif choice == '7':\n",
        "            print(\"Sorting the list in reverse order...\")\n",
        "            reverse(list1)\n",
        "            \n",
        "        elif choice == '8':\n",
        "            break\n",
        "    else:\n",
        "        print(\"Invalid input...\\n\")"
      ],
      "metadata": {
        "id": "6zJjD7CrDxca"
      },
      "execution_count": null,
      "outputs": []
    },
    {
      "cell_type": "markdown",
      "source": [
        "**string.py**"
      ],
      "metadata": {
        "id": "9xnpJoReD2aO"
      }
    },
    {
      "cell_type": "code",
      "source": [
        "def concat(var1, var2):\n",
        "    var3 = \" \".join([var1, var2])\n",
        "    print(var3)\n",
        "\n",
        "def reverse(string):\n",
        "    string = string[::-1]\n",
        "    print(string)\n",
        "\n",
        "def slic(string):\n",
        "    s1 = slice(5,11) \n",
        "    print(string[s1])\n",
        "\n",
        "print(\"Select operation.\")\n",
        "print(\"1.Concatenate two string\")\n",
        "print(\"2.Reverse the string\")\n",
        "print(\"3.Slice the string\")\n",
        "print(\"4.Break the program\")\n",
        "\n",
        "while True:\n",
        "    choice = input(\"Enter choice(1/2/3/4): \")\n",
        "    string = str(input(\"\\nEnter the string: \"))\n",
        "    if choice in ('1', '2', '3', '4'):\n",
        "        if choice == '1':\n",
        "            str1 = str(input(\"Enter the second string. \"))\n",
        "            concat(string, str1)\n",
        "        \n",
        "        elif choice == '2':\n",
        "            reverse(string)\n",
        "\n",
        "        elif choice == '3':\n",
        "            slic(string)\n",
        "\n",
        "        elif choice == '4':\n",
        "            break\n",
        "    else:\n",
        "        print(\"Invalid input\")"
      ],
      "metadata": {
        "id": "TYszM_6cD4_8"
      },
      "execution_count": null,
      "outputs": []
    }
  ]
}